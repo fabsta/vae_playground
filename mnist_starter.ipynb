{
 "cells": [
  {
   "cell_type": "markdown",
   "metadata": {},
   "source": [
    "VAE example from http://nbviewer.jupyter.org/github/tfolkman/deep-learning-experiments/blob/master/VAE.ipynb"
   ]
  },
  {
   "cell_type": "code",
   "execution_count": 1,
   "metadata": {},
   "outputs": [],
   "source": [
    "%matplotlib inline\n",
    "\n",
    "import torch\n",
    "\n",
    "from torch.autograd import Variable\n",
    "from torch.nn.init import xavier_normal\n",
    "\n",
    "import torch.nn as nn\n",
    "import torch.nn.functional as F\n",
    "\n",
    "import torch.optim as optim\n",
    "\n",
    "import torchvision\n",
    "import torchvision.transforms as transforms\n",
    "\n",
    "import matplotlib.pyplot as plt\n",
    "import numpy as np\n",
    "import time\n",
    "import math"
   ]
  },
  {
   "cell_type": "code",
   "execution_count": 2,
   "metadata": {},
   "outputs": [
    {
     "name": "stdout",
     "output_type": "stream",
     "text": [
      "Downloading http://yann.lecun.com/exdb/mnist/train-images-idx3-ubyte.gz\n",
      "Downloading http://yann.lecun.com/exdb/mnist/train-labels-idx1-ubyte.gz\n",
      "Downloading http://yann.lecun.com/exdb/mnist/t10k-images-idx3-ubyte.gz\n",
      "Downloading http://yann.lecun.com/exdb/mnist/t10k-labels-idx1-ubyte.gz\n",
      "Processing...\n",
      "Done!\n"
     ]
    }
   ],
   "source": [
    "BATCH_SIZE = 128\n",
    "\n",
    "transform = transforms.ToTensor()\n",
    "\n",
    "# Load and transform data\n",
    "trainset = torchvision.datasets.MNIST('/tmp', train=True, download=True, transform=transform)\n",
    "trainloader = torch.utils.data.DataLoader(trainset, batch_size=BATCH_SIZE,\n",
    "                                          shuffle=True, num_workers=2)\n",
    "\n",
    "testset = torchvision.datasets.MNIST('/tmp', train=False, download=True, transform=transform)\n",
    "testloader = torch.utils.data.DataLoader(testset, batch_size=BATCH_SIZE,\n",
    "                                         shuffle=False, num_workers=2)"
   ]
  },
  {
   "cell_type": "markdown",
   "metadata": {},
   "source": [
    "# Define VAE"
   ]
  },
  {
   "cell_type": "code",
   "execution_count": 3,
   "metadata": {},
   "outputs": [],
   "source": [
    "class VAE(nn.Module):\n",
    "    def __init__(self, input_size, hidden_size=500, coding_size=20):\n",
    "        super(VAE, self).__init__()\n",
    "        self.hidden1 = nn.Linear(input_size, hidden_size)\n",
    "        self.hidden2_mean = nn.Linear(hidden_size, coding_size)\n",
    "        self.hidden2_gamma = nn.Linear(hidden_size, coding_size)\n",
    "        self.hidden3 = nn.Linear(coding_size, hidden_size)\n",
    "        self.output = nn.Linear(hidden_size, input_size)\n",
    "        self.sigmoid = nn.Sigmoid()\n",
    "        self.relu = nn.ReLU()\n",
    "        \n",
    "    def encoder(self, x):\n",
    "        hidden1_output = self.relu(self.hidden1(x))\n",
    "        return self.hidden2_mean(hidden1_output), self.hidden2_gamma(hidden1_output)\n",
    "\n",
    "    def reparameterize(self, mu, logvar):\n",
    "        if self.training:\n",
    "            noise = Variable(logvar.data.new(logvar.size()).normal_())\n",
    "            return mu + torch.exp(0.5 * logvar) * noise\n",
    "        else:\n",
    "            return mu\n",
    "    \n",
    "    def decoder(self, x):\n",
    "        output_value = self.relu(self.hidden3(x))\n",
    "        output_value = self.output(output_value)\n",
    "        return output_value, self.sigmoid(output_value)\n",
    "            \n",
    "    def forward(self, x):\n",
    "        mean, gamma = self.encoder(x)\n",
    "        z = self.reparameterize(mean, gamma)\n",
    "        output, output_sigmoid = self.decoder(z)\n",
    "        return output, output_sigmoid, mean, gamma"
   ]
  },
  {
   "cell_type": "markdown",
   "metadata": {},
   "source": [
    "# Initialise VAE"
   ]
  },
  {
   "cell_type": "code",
   "execution_count": 4,
   "metadata": {},
   "outputs": [],
   "source": [
    "vae = VAE(input_size=28*28)"
   ]
  },
  {
   "cell_type": "markdown",
   "metadata": {},
   "source": [
    "# Define loss and optimizer"
   ]
  },
  {
   "cell_type": "code",
   "execution_count": 5,
   "metadata": {},
   "outputs": [],
   "source": [
    "def custom_loss(recon_x, x, mu, logvar):\n",
    "    ce_loss = F.binary_cross_entropy_with_logits(recon_x, x,\n",
    "                                                size_average=False)\n",
    "    latent_loss = 0.5 * torch.sum(torch.exp(logvar) + mu.pow(2) - 1 - logvar)\n",
    "    return ce_loss + latent_loss\n",
    "\n",
    "optimizer = optim.Adam(vae.parameters(), lr=1e-3)"
   ]
  },
  {
   "cell_type": "code",
   "execution_count": 6,
   "metadata": {},
   "outputs": [],
   "source": [
    "def timeSince(since):\n",
    "    now = time.time()\n",
    "    s = now - since\n",
    "    m = math.floor(s / 60)\n",
    "    s -= m * 60\n",
    "    return '%dm %ds' % (m, s)"
   ]
  },
  {
   "cell_type": "markdown",
   "metadata": {},
   "source": [
    "# Define training"
   ]
  },
  {
   "cell_type": "code",
   "execution_count": 7,
   "metadata": {},
   "outputs": [
    {
     "data": {
      "text/plain": [
       "VAE(\n",
       "  (hidden1): Linear(in_features=784, out_features=500, bias=True)\n",
       "  (hidden2_mean): Linear(in_features=500, out_features=20, bias=True)\n",
       "  (hidden2_gamma): Linear(in_features=500, out_features=20, bias=True)\n",
       "  (hidden3): Linear(in_features=20, out_features=500, bias=True)\n",
       "  (output): Linear(in_features=500, out_features=784, bias=True)\n",
       "  (sigmoid): Sigmoid()\n",
       "  (relu): ReLU()\n",
       ")"
      ]
     },
     "execution_count": 7,
     "metadata": {},
     "output_type": "execute_result"
    }
   ],
   "source": [
    "N_EPOCHS = 100\n",
    "total_loss = 0\n",
    "print_every = 70000 // BATCH_SIZE\n",
    "plot_every = 7000 // BATCH_SIZE\n",
    "all_losses = []\n",
    "iter = 1\n",
    "\n",
    "start = time.time()\n",
    "vae.train()"
   ]
  },
  {
   "cell_type": "code",
   "execution_count": 8,
   "metadata": {},
   "outputs": [
    {
     "name": "stderr",
     "output_type": "stream",
     "text": [
      "/home/fabsta/.conda/envs/fastai_dl_course/lib/python3.7/site-packages/torch/nn/functional.py:58: UserWarning: size_average and reduce args will be deprecated, please use reduction='sum' instead.\n",
      "  warnings.warn(warning.format(ret))\n"
     ]
    },
    {
     "name": "stdout",
     "output_type": "stream",
     "text": [
      "0m 25s (546 1%) 15269.2539\n",
      "0m 36s (1092 2%) 14437.4395\n",
      "0m 47s (1638 3%) 14048.8662\n",
      "0m 57s (2184 4%) 14235.4707\n",
      "1m 8s (2730 5%) 13368.3301\n",
      "1m 19s (3276 6%) 13637.4307\n",
      "1m 30s (3822 8%) 13815.1416\n",
      "1m 40s (4368 9%) 13853.8809\n",
      "1m 51s (4914 10%) 13001.4688\n",
      "2m 2s (5460 11%) 13694.0293\n",
      "2m 13s (6006 12%) 13296.3994\n",
      "2m 24s (6552 13%) 13520.2021\n",
      "2m 35s (7098 15%) 13545.6982\n",
      "2m 46s (7644 16%) 13454.8125\n",
      "2m 57s (8190 17%) 12905.6768\n",
      "3m 8s (8736 18%) 13633.3945\n",
      "3m 19s (9282 19%) 13280.7109\n",
      "3m 29s (9828 20%) 13274.9941\n",
      "3m 40s (10374 22%) 13113.3135\n",
      "3m 51s (10920 23%) 13228.1797\n",
      "4m 2s (11466 24%) 12684.0703\n",
      "4m 12s (12012 25%) 12843.2549\n",
      "4m 22s (12558 26%) 13085.2158\n",
      "4m 32s (13104 27%) 13038.3633\n",
      "4m 43s (13650 29%) 12847.1445\n",
      "4m 53s (14196 30%) 13381.4199\n",
      "5m 4s (14742 31%) 13464.0566\n",
      "5m 15s (15288 32%) 12472.3154\n",
      "5m 26s (15834 33%) 12848.9590\n",
      "5m 36s (16380 34%) 13255.2559\n",
      "5m 47s (16926 36%) 13264.9082\n",
      "5m 58s (17472 37%) 12780.8428\n",
      "6m 8s (18018 38%) 13237.7725\n",
      "6m 19s (18564 39%) 13106.8027\n",
      "6m 31s (19110 40%) 13512.8066\n",
      "6m 41s (19656 41%) 12818.6445\n",
      "6m 52s (20202 43%) 12914.9307\n",
      "7m 3s (20748 44%) 13039.4453\n",
      "7m 14s (21294 45%) 12767.9727\n",
      "7m 25s (21840 46%) 12354.3096\n",
      "7m 35s (22386 47%) 12303.5410\n",
      "7m 47s (22932 48%) 12912.3750\n",
      "7m 58s (23478 50%) 12578.0527\n",
      "8m 9s (24024 51%) 12934.4795\n",
      "8m 19s (24570 52%) 12666.6279\n",
      "8m 31s (25116 53%) 13127.5420\n",
      "8m 42s (25662 54%) 13090.1250\n",
      "8m 52s (26208 55%) 12885.6641\n",
      "9m 3s (26754 57%) 12859.3203\n",
      "9m 14s (27300 58%) 13271.4023\n",
      "9m 25s (27846 59%) 12986.9160\n",
      "9m 35s (28392 60%) 12299.3125\n",
      "9m 46s (28938 61%) 12887.2178\n",
      "9m 56s (29484 62%) 12473.2676\n",
      "10m 7s (30030 64%) 12261.5391\n",
      "10m 18s (30576 65%) 13202.6709\n",
      "10m 29s (31122 66%) 13281.5273\n",
      "10m 40s (31668 67%) 12162.5566\n",
      "10m 52s (32214 68%) 12900.2324\n",
      "11m 3s (32760 69%) 12731.9961\n",
      "11m 15s (33306 71%) 12780.5527\n",
      "11m 26s (33852 72%) 12681.1934\n",
      "11m 37s (34398 73%) 13282.0029\n",
      "11m 48s (34944 74%) 12739.8125\n",
      "12m 0s (35490 75%) 12839.7959\n",
      "12m 11s (36036 76%) 12901.4609\n",
      "12m 22s (36582 78%) 9588.1777\n",
      "12m 34s (37128 79%) 12711.8145\n",
      "12m 45s (37674 80%) 12498.8408\n",
      "12m 56s (38220 81%) 12424.2051\n",
      "13m 7s (38766 82%) 13536.9258\n",
      "13m 19s (39312 83%) 12475.7129\n",
      "13m 30s (39858 84%) 12567.9277\n",
      "13m 41s (40404 86%) 12890.5908\n",
      "13m 52s (40950 87%) 12910.1543\n",
      "14m 4s (41496 88%) 13152.0098\n",
      "14m 15s (42042 89%) 12616.5098\n",
      "14m 26s (42588 90%) 12751.7090\n",
      "14m 37s (43134 91%) 13112.7139\n",
      "14m 49s (43680 93%) 12911.3945\n",
      "15m 0s (44226 94%) 12805.1094\n",
      "15m 11s (44772 95%) 12672.3916\n",
      "15m 22s (45318 96%) 12581.2461\n",
      "15m 33s (45864 97%) 12704.1602\n",
      "15m 44s (46410 98%) 13033.6689\n"
     ]
    }
   ],
   "source": [
    "for e in range(N_EPOCHS):\n",
    "    for i_batch, batch in enumerate(trainloader):\n",
    "        image = batch[0]\n",
    "        label = batch[1]\n",
    "        image = Variable(image.view(-1, 1, 28*28))\n",
    "        \n",
    "        vae.zero_grad()\n",
    "        output, output_sigmoid, mean, gamma = vae(image)\n",
    "        loss = custom_loss(output, image, mean, gamma)\n",
    "        loss.backward()\n",
    "        optimizer.step()\n",
    "        \n",
    "        total_loss += loss.data\n",
    "        \n",
    "        if iter % print_every == 0:\n",
    "            print('%s (%d %d%%) %.4f' % (timeSince(start), iter, iter / (len(trainloader) * N_EPOCHS) * 100, loss))\n",
    "\n",
    "        if iter % plot_every == 0:\n",
    "            all_losses.append(total_loss / (plot_every*BATCH_SIZE))\n",
    "            total_loss = 0\n",
    "        \n",
    "        iter = iter + 1"
   ]
  },
  {
   "cell_type": "markdown",
   "metadata": {},
   "source": [
    "# Evaluation"
   ]
  },
  {
   "cell_type": "markdown",
   "metadata": {},
   "source": [
    "## Plot losses over time"
   ]
  },
  {
   "cell_type": "code",
   "execution_count": 9,
   "metadata": {},
   "outputs": [
    {
     "data": {
      "text/plain": [
       "[<matplotlib.lines.Line2D at 0x7f990007c400>]"
      ]
     },
     "execution_count": 9,
     "metadata": {},
     "output_type": "execute_result"
    },
    {
     "data": {
      "image/png": "[encoded data removed]",
      "text/plain": [
       "<Figure size 432x288 with 1 Axes>"
      ]
     },
     "metadata": {
      "needs_background": "light"
     },
     "output_type": "display_data"
    }
   ],
   "source": [
    "plt.plot(all_losses)"
   ]
  },
  {
   "cell_type": "markdown",
   "metadata": {},
   "source": [
    "## Visualize features"
   ]
  },
  {
   "cell_type": "code",
   "execution_count": 11,
   "metadata": {},
   "outputs": [
    {
     "data": {
      "text/plain": [
       "500"
      ]
     },
     "execution_count": 11,
     "metadata": {},
     "output_type": "execute_result"
    }
   ],
   "source": [
    "# get weights of first hiddenlayer\n",
    "hidden1_weights = vae.hidden1.weight.data.cpu().numpy(); len(hidden1_weights)"
   ]
  },
  {
   "cell_type": "markdown",
   "metadata": {},
   "source": [
    "### Plot example of hidden layer"
   ]
  },
  {
   "cell_type": "code",
   "execution_count": 13,
   "metadata": {},
   "outputs": [
    {
     "data": {
      "image/png": "[encoded data removed]",
      "text/plain": [
       "<Figure size 432x288 with 1 Axes>"
      ]
     },
     "metadata": {
      "needs_background": "light"
     },
     "output_type": "display_data"
    }
   ],
   "source": [
    "neuron = 0\n",
    "t = plt.imshow(hidden1_weights[neuron].reshape([28,28]),\n",
    "           cmap='Greys')"
   ]
  },
  {
   "cell_type": "markdown",
   "metadata": {},
   "source": [
    "## Decode some images"
   ]
  },
  {
   "cell_type": "code",
   "execution_count": 14,
   "metadata": {},
   "outputs": [
    {
     "data": {
      "text/plain": [
       "VAE(\n",
       "  (hidden1): Linear(in_features=784, out_features=500, bias=True)\n",
       "  (hidden2_mean): Linear(in_features=500, out_features=20, bias=True)\n",
       "  (hidden2_gamma): Linear(in_features=500, out_features=20, bias=True)\n",
       "  (hidden3): Linear(in_features=20, out_features=500, bias=True)\n",
       "  (output): Linear(in_features=500, out_features=784, bias=True)\n",
       "  (sigmoid): Sigmoid()\n",
       "  (relu): ReLU()\n",
       ")"
      ]
     },
     "execution_count": 14,
     "metadata": {},
     "output_type": "execute_result"
    }
   ],
   "source": [
    "# Set module to evaluation mode\n",
    "vae.eval()"
   ]
  },
  {
   "cell_type": "markdown",
   "metadata": {},
   "source": [
    "### Get a random latent picture"
   ]
  },
  {
   "cell_type": "code",
   "execution_count": 25,
   "metadata": {},
   "outputs": [
    {
     "data": {
      "text/plain": [
       "tensor([[-0.4203, -1.5823, -0.3269,  ...,  0.6304,  1.4745,  1.1985],\n",
       "        [ 0.7014, -1.8297,  0.3869,  ..., -0.0932, -0.7030,  1.2169],\n",
       "        [ 0.9258,  0.4230, -0.1321,  ..., -1.1031, -0.1786,  1.1051],\n",
       "        ...,\n",
       "        [-1.1285, -0.0698, -0.1914,  ...,  0.6628,  1.5459,  0.3572],\n",
       "        [ 0.1123,  0.9547, -0.5785,  ...,  0.5735, -2.3425, -1.6576],\n",
       "        [ 0.1720, -0.0570, -1.2623,  ...,  0.7850,  0.2044, -1.7544]])"
      ]
     },
     "execution_count": 25,
     "metadata": {},
     "output_type": "execute_result"
    }
   ],
   "source": [
    "random = Variable(torch.randn(64, 20)); random"
   ]
  },
  {
   "cell_type": "markdown",
   "metadata": {},
   "source": [
    "### Decode latent picture"
   ]
  },
  {
   "cell_type": "code",
   "execution_count": 26,
   "metadata": {},
   "outputs": [
    {
     "data": {
      "text/plain": [
       "tensor([[1.2038e-18, 8.5448e-19, 1.6126e-18,  ..., 9.0866e-19, 6.6774e-19,\n",
       "         7.0448e-19],\n",
       "        [8.1358e-13, 7.8337e-13, 9.6190e-13,  ..., 8.9767e-13, 8.0653e-13,\n",
       "         1.0135e-12],\n",
       "        [1.3498e-11, 1.6749e-11, 1.3110e-11,  ..., 1.7196e-11, 1.3176e-11,\n",
       "         1.2583e-11],\n",
       "        ...,\n",
       "        [2.9012e-20, 2.3414e-20, 2.1238e-20,  ..., 1.5733e-20, 2.1524e-20,\n",
       "         1.9940e-20],\n",
       "        [1.7380e-17, 1.7051e-17, 2.1548e-17,  ..., 2.9646e-17, 1.3942e-17,\n",
       "         2.8922e-17],\n",
       "        [2.2674e-17, 1.1967e-17, 2.0827e-17,  ..., 2.0226e-17, 1.8480e-17,\n",
       "         1.4190e-17]], grad_fn=<SigmoidBackward>)"
      ]
     },
     "execution_count": 26,
     "metadata": {},
     "output_type": "execute_result"
    }
   ],
   "source": [
    "_, sample = vae.decoder(random); sample"
   ]
  },
  {
   "cell_type": "code",
   "execution_count": 27,
   "metadata": {},
   "outputs": [
    {
     "data": {
      "image/png": "[encoded data removed]",
      "text/plain": [
       "<Figure size 432x288 with 1 Axes>"
      ]
     },
     "metadata": {
      "needs_background": "light"
     },
     "output_type": "display_data"
    }
   ],
   "source": [
    "t = plt.imshow(sample[58].data.numpy().reshape(28,28),cmap=\"Greys\")"
   ]
  },
  {
   "cell_type": "code",
   "execution_count": null,
   "metadata": {},
   "outputs": [],
   "source": []
  }
 ],
 "metadata": {
  "kernelspec": {
   "display_name": "Python (fastai_dl_course)",
   "language": "python",
   "name": "fastai_dl_course"
  },
  "language_info": {
   "codemirror_mode": {
    "name": "ipython",
    "version": 3
   },
   "file_extension": ".py",
   "mimetype": "text/x-python",
   "name": "python",
   "nbconvert_exporter": "python",
   "pygments_lexer": "ipython3",
   "version": "3.7.0"
  }
 },
 "nbformat": 4,
 "nbformat_minor": 2
}

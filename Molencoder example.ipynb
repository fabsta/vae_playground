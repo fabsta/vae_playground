{
 "cells": [
  {
   "cell_type": "markdown",
   "metadata": {},
   "source": [
    "source: https://iwatobipen.wordpress.com/2018/02/18/mol-encoder-with-pytorch/"
   ]
  },
  {
   "cell_type": "code",
   "execution_count": 1,
   "metadata": {
    "ExecuteTime": {
     "end_time": "2018-11-21T17:09:16.299437Z",
     "start_time": "2018-11-21T17:09:16.010912Z"
    }
   },
   "outputs": [],
   "source": [
    "import numpy as np\n",
    "import torch\n",
    "import argparse\n",
    "from torch.autograd import Variable\n",
    "from rdkit import Chem"
   ]
  },
  {
   "cell_type": "code",
   "execution_count": 2,
   "metadata": {
    "ExecuteTime": {
     "end_time": "2018-11-21T17:09:16.969235Z",
     "start_time": "2018-11-21T17:09:16.965840Z"
    }
   },
   "outputs": [],
   "source": [
    "import sys\n",
    "sys.path.append('./molencoder/')"
   ]
  },
  {
   "cell_type": "code",
   "execution_count": 3,
   "metadata": {
    "ExecuteTime": {
     "end_time": "2018-11-21T17:09:17.768494Z",
     "start_time": "2018-11-21T17:09:17.730420Z"
    }
   },
   "outputs": [],
   "source": [
    "from molencoder.models import MolEncoder, MolDecoder\n",
    "from molencoder.models import MolEncoder, MolDecoder\n",
    "from molencoder.utils import( load_dataset, initialize_weights,ReduceLROnPlateau, save_checkpoint, validate_model)\n",
    "from molencoder.featurizers import Featurizer, OneHotFeaturizer"
   ]
  },
  {
   "cell_type": "code",
   "execution_count": 4,
   "metadata": {
    "ExecuteTime": {
     "end_time": "2018-11-21T17:09:26.674110Z",
     "start_time": "2018-11-21T17:09:26.665169Z"
    }
   },
   "outputs": [],
   "source": [
    "SOURCE = 'c1ccccn1'\n",
    "DEST =  'c1ccccc1'\n",
    "STEPS = 200\n",
    "#charset from chembl\n",
    "WIDTH=120\n",
    " \n",
    "charset = [' ', '#', '%', '(', ')', '+', '-', '.', '/', '0', '1', '2', '3', '4', '5', '6', '7', '8', '9', '=', '@', 'A', 'B', 'C', 'F', 'H', 'I', 'K', 'L', 'M', 'N', 'O', 'P', 'S', 'T', 'V', 'X', 'Z', '[', '\\\\', ']', 'a', 'c', 'e', 'g', 'i', 'l', 'n', 'o', 'p', 'r', 's', 't']\n",
    " "
   ]
  },
  {
   "cell_type": "code",
   "execution_count": 5,
   "metadata": {
    "ExecuteTime": {
     "end_time": "2018-11-21T17:10:02.748500Z",
     "start_time": "2018-11-21T17:10:02.739556Z"
    }
   },
   "outputs": [],
   "source": [
    "def decode_smiles_from_index(vec, charset):\n",
    "    return \"\".join(map(lambda x:charset[x],vec)).strip()\n",
    " \n",
    " \n",
    "def get_arguments():\n",
    "    parser = argparse.ArgumentParser(description=\"Interpolate from source to dest in steps\")\n",
    "    parser.add_argument(\"--source\", type=str, default=DEST)\n",
    "    parser.add_argument(\"--dest\", type=str, default=SOURCE)\n",
    "    parser.add_argument(\"--steps\", type=int, default=STEPS)\n",
    "    return parser.parse_args()\n",
    " \n",
    "def interpolate(source, dest, steps, charset, encoder, decoder):\n",
    "    width=WIDTH\n",
    "    source_just = source.ljust(width)\n",
    "    dest_just = dest.ljust(width)\n",
    "    onehot = OneHotFeaturizer(charset=charset)\n",
    "    sourcevec = onehot.featurize(smiles=[source_just])\n",
    "    destvec = onehot.featurize(smiles=[dest_just])\n",
    "    source_encoded = Variable(torch.from_numpy(sourcevec).float()).cuda()\n",
    "    dest_encoded = Variable(torch.from_numpy(destvec).float()).cuda()\n",
    "    source_x_latent = encoder(source_encoded)\n",
    "    dest_x_latent = encoder(dest_encoded)\n",
    "    step = (dest_x_latent-source_x_latent)/float(steps)\n",
    "    results = []\n",
    "    for i in range(steps):\n",
    "        item = source_x_latent + (step*i)\n",
    "        sampled = np.argmax(decoder(item).cpu().data.numpy(), axis=2)\n",
    "        #print(sampled)\n",
    "        decode_smiles = decode_smiles_from_index(sampled[0], charset)\n",
    "        results.append((i, item, decode_smiles))\n",
    "    return results\n",
    " "
   ]
  },
  {
   "cell_type": "code",
   "execution_count": 9,
   "metadata": {
    "ExecuteTime": {
     "end_time": "2018-11-21T17:15:13.336743Z",
     "start_time": "2018-11-21T17:15:13.195497Z"
    }
   },
   "outputs": [
    {
     "name": "stdout",
     "output_type": "stream",
     "text": [
      "True\n"
     ]
    },
    {
     "ename": "FileNotFoundError",
     "evalue": "[Errno 2] No such file or directory: 'model_best.pth.tar'",
     "output_type": "error",
     "traceback": [
      "\u001b[0;31m---------------------------------------------------------------------------\u001b[0m",
      "\u001b[0;31mFileNotFoundError\u001b[0m                         Traceback (most recent call last)",
      "\u001b[0;32m<ipython-input-9-c35f80d9028d>\u001b[0m in \u001b[0;36m<module>\u001b[0;34m\u001b[0m\n\u001b[1;32m     14\u001b[0m \u001b[0mdecoder\u001b[0m\u001b[0;34m.\u001b[0m\u001b[0mapply\u001b[0m\u001b[0;34m(\u001b[0m\u001b[0minitialize_weights\u001b[0m\u001b[0;34m)\u001b[0m\u001b[0;34m\u001b[0m\u001b[0m\n\u001b[1;32m     15\u001b[0m \u001b[0;34m\u001b[0m\u001b[0m\n\u001b[0;32m---> 16\u001b[0;31m \u001b[0mbestmodel\u001b[0m \u001b[0;34m=\u001b[0m \u001b[0mtorch\u001b[0m\u001b[0;34m.\u001b[0m\u001b[0mload\u001b[0m\u001b[0;34m(\u001b[0m\u001b[0;34m\"model_best.pth.tar\"\u001b[0m\u001b[0;34m)\u001b[0m\u001b[0;34m\u001b[0m\u001b[0m\n\u001b[0m\u001b[1;32m     17\u001b[0m \u001b[0;31m#bestmodel = torch.load(\"tempcheckpoint.pth.tar\")\u001b[0m\u001b[0;34m\u001b[0m\u001b[0;34m\u001b[0m\u001b[0m\n\u001b[1;32m     18\u001b[0m \u001b[0mencoder\u001b[0m\u001b[0;34m.\u001b[0m\u001b[0mload_state_dict\u001b[0m\u001b[0;34m(\u001b[0m\u001b[0mbestmodel\u001b[0m\u001b[0;34m[\u001b[0m\u001b[0;34m\"encoder\"\u001b[0m\u001b[0;34m]\u001b[0m\u001b[0;34m)\u001b[0m\u001b[0;34m\u001b[0m\u001b[0m\n",
      "\u001b[0;32m~/.conda/envs/cdn_molecule/lib/python3.6/site-packages/torch/serialization.py\u001b[0m in \u001b[0;36mload\u001b[0;34m(f, map_location, pickle_module)\u001b[0m\n\u001b[1;32m    354\u001b[0m             \u001b[0;34m(\u001b[0m\u001b[0msys\u001b[0m\u001b[0;34m.\u001b[0m\u001b[0mversion_info\u001b[0m\u001b[0;34m[\u001b[0m\u001b[0;36m0\u001b[0m\u001b[0;34m]\u001b[0m \u001b[0;34m==\u001b[0m \u001b[0;36m3\u001b[0m \u001b[0;32mand\u001b[0m \u001b[0misinstance\u001b[0m\u001b[0;34m(\u001b[0m\u001b[0mf\u001b[0m\u001b[0;34m,\u001b[0m \u001b[0mpathlib\u001b[0m\u001b[0;34m.\u001b[0m\u001b[0mPath\u001b[0m\u001b[0;34m)\u001b[0m\u001b[0;34m)\u001b[0m\u001b[0;34m:\u001b[0m\u001b[0;34m\u001b[0m\u001b[0m\n\u001b[1;32m    355\u001b[0m         \u001b[0mnew_fd\u001b[0m \u001b[0;34m=\u001b[0m \u001b[0;32mTrue\u001b[0m\u001b[0;34m\u001b[0m\u001b[0m\n\u001b[0;32m--> 356\u001b[0;31m         \u001b[0mf\u001b[0m \u001b[0;34m=\u001b[0m \u001b[0mopen\u001b[0m\u001b[0;34m(\u001b[0m\u001b[0mf\u001b[0m\u001b[0;34m,\u001b[0m \u001b[0;34m'rb'\u001b[0m\u001b[0;34m)\u001b[0m\u001b[0;34m\u001b[0m\u001b[0m\n\u001b[0m\u001b[1;32m    357\u001b[0m     \u001b[0;32mtry\u001b[0m\u001b[0;34m:\u001b[0m\u001b[0;34m\u001b[0m\u001b[0m\n\u001b[1;32m    358\u001b[0m         \u001b[0;32mreturn\u001b[0m \u001b[0m_load\u001b[0m\u001b[0;34m(\u001b[0m\u001b[0mf\u001b[0m\u001b[0;34m,\u001b[0m \u001b[0mmap_location\u001b[0m\u001b[0;34m,\u001b[0m \u001b[0mpickle_module\u001b[0m\u001b[0;34m)\u001b[0m\u001b[0;34m\u001b[0m\u001b[0m\n",
      "\u001b[0;31mFileNotFoundError\u001b[0m: [Errno 2] No such file or directory: 'model_best.pth.tar'"
     ]
    }
   ],
   "source": [
    "#args= get_arguments()\n",
    "encoder = MolEncoder( c = len(charset))\n",
    "decoder = MolDecoder( c = len(charset))\n",
    "encoder.apply(initialize_weights)\n",
    "decoder.apply(initialize_weights)\n",
    " \n",
    "print( torch.cuda.is_available() )\n",
    "#encoder = MolEncoder( c = len(charset)).cuda()\n",
    "encoder = MolEncoder( c = len(charset))\n",
    "encoder.apply(initialize_weights)\n",
    " \n",
    "#decoder = MolDecoder( c = len(charset)).cuda()\n",
    "decoder = MolDecoder( c = len(charset))\n",
    "decoder.apply(initialize_weights)\n",
    " \n",
    "bestmodel = torch.load(\"model_best.pth.tar\")\n",
    "#bestmodel = torch.load(\"tempcheckpoint.pth.tar\")\n",
    "encoder.load_state_dict(bestmodel[\"encoder\"])\n",
    "decoder.load_state_dict(bestmodel[\"decoder\"])\n",
    "\n",
    "results = interpolate( args.source, args.dest, args.steps, charset, encoder, decoder )\n",
    "for result in results:\n",
    "    print(result[0], result[2])"
   ]
  },
  {
   "cell_type": "code",
   "execution_count": null,
   "metadata": {},
   "outputs": [],
   "source": []
  }
 ],
 "metadata": {
  "kernelspec": {
   "display_name": "cdn_molecule",
   "language": "python",
   "name": "cdn_molecule"
  },
  "language_info": {
   "codemirror_mode": {
    "name": "ipython",
    "version": 3
   },
   "file_extension": ".py",
   "mimetype": "text/x-python",
   "name": "python",
   "nbconvert_exporter": "python",
   "pygments_lexer": "ipython3",
   "version": "3.6.6"
  },
  "toc": {
   "base_numbering": 1,
   "nav_menu": {},
   "number_sections": true,
   "sideBar": true,
   "skip_h1_title": false,
   "title_cell": "Table of Contents",
   "title_sidebar": "Contents",
   "toc_cell": false,
   "toc_position": {},
   "toc_section_display": true,
   "toc_window_display": false
  }
 },
 "nbformat": 4,
 "nbformat_minor": 2
}
